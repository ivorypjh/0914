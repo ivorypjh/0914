{
  "nbformat": 4,
  "nbformat_minor": 0,
  "metadata": {
    "colab": {
      "provenance": []
    },
    "kernelspec": {
      "name": "python3",
      "display_name": "Python 3"
    },
    "language_info": {
      "name": "python"
    }
  },
  "cells": [
    {
      "cell_type": "markdown",
      "source": [
        "## 공용 코드"
      ],
      "metadata": {
        "id": "dk3XoDBaq-yx"
      }
    },
    {
      "cell_type": "code",
      "execution_count": 2,
      "metadata": {
        "id": "1JCEOfbQq2qY"
      },
      "outputs": [],
      "source": [
        "import sys\n",
        "\n",
        "# sklearn ≥0.20 필수\n",
        "import sklearn\n",
        "\n",
        "# 공통 모듈 임포트\n",
        "import numpy as np\n",
        "import pandas as pd\n",
        "import os\n",
        "\n",
        "# 노트북 실행 결과를 동일하게 유지하기 위해\n",
        "np.random.seed(21)\n",
        "\n",
        "# 깔끔한 그래프 출력을 위해\n",
        "%matplotlib inline\n",
        "\n",
        "import matplotlib as mpl\n",
        "import matplotlib.pyplot as plt\n",
        "\n",
        "mpl.rc('axes', labelsize=14)\n",
        "mpl.rc('xtick', labelsize=12)\n",
        "mpl.rc('ytick', labelsize=12)\n",
        "\n",
        "import platform\n",
        "from matplotlib import font_manager, rc\n",
        "\n",
        "# 매킨토시의 경우\n",
        "if platform.system() == 'Darwin':\n",
        "  rc('font', family='AppleGothic')\n",
        "# 윈도우의 경우\n",
        "elif platform.system() == 'Windows':\n",
        "  font_name = font_manager.FontProperties(fname=\"c:/Windows/Fonts/malgun.ttf\").get_name()\n",
        "  rc('font', family=font_name)\n",
        "  mpl.rcParams['axes.unicode_minus'] = False"
      ]
    },
    {
      "cell_type": "code",
      "source": [
        "import tensorflow as tf\n",
        "from tensorflow import keras\n",
        "print(tf.__version__)"
      ],
      "metadata": {
        "colab": {
          "base_uri": "https://localhost:8080/"
        },
        "id": "ouaKYX_lrDuz",
        "outputId": "214b3f15-7d0f-49d7-a3dd-09a216a9d50a"
      },
      "execution_count": 3,
      "outputs": [
        {
          "output_type": "stream",
          "name": "stdout",
          "text": [
            "2.13.0\n"
          ]
        }
      ]
    },
    {
      "cell_type": "markdown",
      "source": [
        "## 선형 회귀"
      ],
      "metadata": {
        "id": "9uqu7ebArB48"
      }
    },
    {
      "cell_type": "code",
      "source": [
        "# 입력의 차원이 1개인 단순 선형 회귀\n",
        "\n",
        "X = np.arange(1, 6)\n",
        "y = X * 3 + 2\n",
        "\n",
        "# 모델 생성\n",
        "# input data의 차원이 1 이므로 input_shape 도 1\n",
        "model = tf.keras.Sequential([\n",
        "    tf.keras.layers.Dense(1, input_shape = [1])\n",
        "])"
      ],
      "metadata": {
        "id": "Upduwdz1rMA5"
      },
      "execution_count": 4,
      "outputs": []
    },
    {
      "cell_type": "code",
      "source": [
        "# 모델의 구조 확인\n",
        "\n",
        "# 출력(output)이 1개이므로 회귀\n",
        "# layer 에는 bias 가 추가되므로 parameter 수는 2개\n",
        "model.summary()"
      ],
      "metadata": {
        "colab": {
          "base_uri": "https://localhost:8080/"
        },
        "id": "0Rx9IMEQsFNB",
        "outputId": "a75f35d2-d490-42c5-be0a-f1ed16f4017d"
      },
      "execution_count": 5,
      "outputs": [
        {
          "output_type": "stream",
          "name": "stdout",
          "text": [
            "Model: \"sequential\"\n",
            "_________________________________________________________________\n",
            " Layer (type)                Output Shape              Param #   \n",
            "=================================================================\n",
            " dense (Dense)               (None, 1)                 2         \n",
            "                                                                 \n",
            "=================================================================\n",
            "Total params: 2 (8.00 Byte)\n",
            "Trainable params: 2 (8.00 Byte)\n",
            "Non-trainable params: 0 (0.00 Byte)\n",
            "_________________________________________________________________\n"
          ]
        }
      ]
    },
    {
      "cell_type": "code",
      "source": [
        "# 모델을 컴파일\n",
        "\n",
        "'''\n",
        "model.compile(optimizer = 'sgd', loss = 'mean_squared_error',\n",
        "              metrics = ['mean_squared_error', 'mean_absolute_error'])\n",
        "'''\n",
        "# 위와 동일한 모델이지만 축약해서 작성\n",
        "model.compile(optimizer = 'sgd', loss = 'mse',\n",
        "              metrics = ['mse', 'mae'])\n",
        "\n",
        "# 매개변수를 인스턴스나 함수, 변수로 설정할 수 있음\n",
        "# 아래에서는 인스턴스로 입력했지만 역시 동일한 모델\n",
        "model.compile(optimizer = tf.keras.optimizers.SGD(learning_rate = 0.05),\n",
        "              loss = tf.keras.losses.MeanSquaredError(),\n",
        "              metrics = [tf.keras.losses.MeanSquaredError(),\n",
        "                         tf.keras.losses.MeanAbsoluteError()])"
      ],
      "metadata": {
        "id": "HnW6N-n_sFPM"
      },
      "execution_count": 6,
      "outputs": []
    },
    {
      "cell_type": "code",
      "source": [
        "# 모델 훈련\n",
        "\n",
        "# 훈련을 위해 fit 함수를 사용\n",
        "# 훈련 정보를 확인하기 위해 변수에 할당\n",
        "# 모델을 만들 때 설정한대로 loss, MSE, MAE 를 출력함\n",
        "# verbose = 0 을 설정하면 훈련 과정을 출력하지 않음\n",
        "history = model.fit(X, y, epochs = 2000)"
      ],
      "metadata": {
        "id": "ZFIKwjODrMH2"
      },
      "execution_count": null,
      "outputs": []
    },
    {
      "cell_type": "code",
      "source": [
        "# 훈련 과정에서 발생하는 손실 값과 평가 지표 시각화\n",
        "\n",
        "# fit 의 결과를 반환한 변수 안의 history 에 정보가 들어있음\n",
        "plt.plot(history.history['loss'], label = 'loss')\n",
        "#plt.plot(history.history['mae'], label = 'mae')\n",
        "plt.xlim(-1, 200)\n",
        "plt.ylim(-0.1, 0.2)\n",
        "plt.title('Loss')\n",
        "plt.legend()\n",
        "plt.show()\n"
      ],
      "metadata": {
        "id": "9qtBNf7yrMKA",
        "colab": {
          "base_uri": "https://localhost:8080/",
          "height": 456
        },
        "outputId": "a61c1848-4394-4353-9865-58287e71a2b7"
      },
      "execution_count": 15,
      "outputs": [
        {
          "output_type": "display_data",
          "data": {
            "text/plain": [
              "<Figure size 640x480 with 1 Axes>"
            ],
            "image/png": "[encoded data removed]"
          },
          "metadata": {}
        }
      ]
    },
    {
      "cell_type": "code",
      "source": [
        "# 결과 검증\n",
        "model.evaluate(X, y)"
      ],
      "metadata": {
        "id": "Nt_yZdg5rMMn",
        "colab": {
          "base_uri": "https://localhost:8080/"
        },
        "outputId": "cd28535e-5bda-4ecc-bd54-5741e2bdae89"
      },
      "execution_count": 16,
      "outputs": [
        {
          "output_type": "stream",
          "name": "stdout",
          "text": [
            "1/1 [==============================] - 1s 749ms/step - loss: 3.0923e-12 - mean_squared_error: 3.0923e-12 - mean_absolute_error: 1.3351e-06\n"
          ]
        },
        {
          "output_type": "execute_result",
          "data": {
            "text/plain": [
              "[3.09228207276413e-12, 3.09228207276413e-12, 1.3351440202313825e-06]"
            ]
          },
          "metadata": {},
          "execution_count": 16
        }
      ]
    },
    {
      "cell_type": "code",
      "source": [
        "# 기존 y 는 3 * X + 2\n",
        "model.predict([10]) # 32 -> 32.000008\n",
        "model.predict([6]) # 20 -> 20.000004"
      ],
      "metadata": {
        "id": "ZpRFDZZbrMPB",
        "colab": {
          "base_uri": "https://localhost:8080/"
        },
        "outputId": "35825859-d104-4c8e-b765-b7146f8b830c"
      },
      "execution_count": 19,
      "outputs": [
        {
          "output_type": "stream",
          "name": "stdout",
          "text": [
            "1/1 [==============================] - 0s 63ms/step\n"
          ]
        },
        {
          "output_type": "execute_result",
          "data": {
            "text/plain": [
              "array([[32.000008]], dtype=float32)"
            ]
          },
          "metadata": {},
          "execution_count": 19
        }
      ]
    },
    {
      "cell_type": "markdown",
      "source": [
        "## 분류"
      ],
      "metadata": {
        "id": "8TFpstM1HQY7"
      }
    },
    {
      "cell_type": "markdown",
      "source": [
        "### 화이트 와인과 레드 와인 이항 분류"
      ],
      "metadata": {
        "id": "75OLgsR0Ib6N"
      }
    },
    {
      "cell_type": "code",
      "source": [
        "# 데이터 가져오기\n",
        "\n",
        "import pandas as pd\n",
        "red = pd.read_csv('http://archive.ics.uci.edu/ml/machine-learning-databases/wine-quality/winequality-red.csv', sep=';')\n",
        "white = pd.read_csv('http://archive.ics.uci.edu/ml/machine-learning-databases/wine-quality/winequality-white.csv', sep=';')\n",
        "\n",
        "print(red.head())\n",
        "print(white.head())\n"
      ],
      "metadata": {
        "id": "YUfoDlhfrMRk",
        "colab": {
          "base_uri": "https://localhost:8080/"
        },
        "outputId": "b766bd37-c23f-4697-ac62-9f000e9c0e80"
      },
      "execution_count": 23,
      "outputs": [
        {
          "output_type": "stream",
          "name": "stdout",
          "text": [
            "   fixed acidity  volatile acidity  citric acid  residual sugar  chlorides  \\\n",
            "0            7.4              0.70         0.00             1.9      0.076   \n",
            "1            7.8              0.88         0.00             2.6      0.098   \n",
            "2            7.8              0.76         0.04             2.3      0.092   \n",
            "3           11.2              0.28         0.56             1.9      0.075   \n",
            "4            7.4              0.70         0.00             1.9      0.076   \n",
            "\n",
            "   free sulfur dioxide  total sulfur dioxide  density    pH  sulphates  \\\n",
            "0                 11.0                  34.0   0.9978  3.51       0.56   \n",
            "1                 25.0                  67.0   0.9968  3.20       0.68   \n",
            "2                 15.0                  54.0   0.9970  3.26       0.65   \n",
            "3                 17.0                  60.0   0.9980  3.16       0.58   \n",
            "4                 11.0                  34.0   0.9978  3.51       0.56   \n",
            "\n",
            "   alcohol  quality  \n",
            "0      9.4        5  \n",
            "1      9.8        5  \n",
            "2      9.8        5  \n",
            "3      9.8        6  \n",
            "4      9.4        5  \n",
            "   fixed acidity  volatile acidity  citric acid  residual sugar  chlorides  \\\n",
            "0            7.0              0.27         0.36            20.7      0.045   \n",
            "1            6.3              0.30         0.34             1.6      0.049   \n",
            "2            8.1              0.28         0.40             6.9      0.050   \n",
            "3            7.2              0.23         0.32             8.5      0.058   \n",
            "4            7.2              0.23         0.32             8.5      0.058   \n",
            "\n",
            "   free sulfur dioxide  total sulfur dioxide  density    pH  sulphates  \\\n",
            "0                 45.0                 170.0   1.0010  3.00       0.45   \n",
            "1                 14.0                 132.0   0.9940  3.30       0.49   \n",
            "2                 30.0                  97.0   0.9951  3.26       0.44   \n",
            "3                 47.0                 186.0   0.9956  3.19       0.40   \n",
            "4                 47.0                 186.0   0.9956  3.19       0.40   \n",
            "\n",
            "   alcohol  quality  \n",
            "0      8.8        6  \n",
            "1      9.5        6  \n",
            "2     10.1        6  \n",
            "3      9.9        6  \n",
            "4      9.9        6  \n"
          ]
        }
      ]
    },
    {
      "cell_type": "code",
      "source": [
        "# 데이터에 타겟 생성\n",
        "red['type'] = 0\n",
        "white['type'] = 1\n",
        "\n",
        "# 2개의 서로 다른 데이터를 세로 방향으로 합치기 - concat\n",
        "wine = pd.concat([red, white])\n",
        "print(wine.describe())\n",
        "# describe 의 type 을 보면 0과 1이 존재하므로 합치기 성공"
      ],
      "metadata": {
        "colab": {
          "base_uri": "https://localhost:8080/"
        },
        "id": "x7_JfDSHHPjb",
        "outputId": "a1bb2d37-441e-405b-ff40-61c7a9043d1a"
      },
      "execution_count": 24,
      "outputs": [
        {
          "output_type": "stream",
          "name": "stdout",
          "text": [
            "       fixed acidity  volatile acidity  citric acid  residual sugar  \\\n",
            "count    6497.000000       6497.000000  6497.000000     6497.000000   \n",
            "mean        7.215307          0.339666     0.318633        5.443235   \n",
            "std         1.296434          0.164636     0.145318        4.757804   \n",
            "min         3.800000          0.080000     0.000000        0.600000   \n",
            "25%         6.400000          0.230000     0.250000        1.800000   \n",
            "50%         7.000000          0.290000     0.310000        3.000000   \n",
            "75%         7.700000          0.400000     0.390000        8.100000   \n",
            "max        15.900000          1.580000     1.660000       65.800000   \n",
            "\n",
            "         chlorides  free sulfur dioxide  total sulfur dioxide      density  \\\n",
            "count  6497.000000          6497.000000           6497.000000  6497.000000   \n",
            "mean      0.056034            30.525319            115.744574     0.994697   \n",
            "std       0.035034            17.749400             56.521855     0.002999   \n",
            "min       0.009000             1.000000              6.000000     0.987110   \n",
            "25%       0.038000            17.000000             77.000000     0.992340   \n",
            "50%       0.047000            29.000000            118.000000     0.994890   \n",
            "75%       0.065000            41.000000            156.000000     0.996990   \n",
            "max       0.611000           289.000000            440.000000     1.038980   \n",
            "\n",
            "                pH    sulphates      alcohol      quality         type  \n",
            "count  6497.000000  6497.000000  6497.000000  6497.000000  6497.000000  \n",
            "mean      3.218501     0.531268    10.491801     5.818378     0.753886  \n",
            "std       0.160787     0.148806     1.192712     0.873255     0.430779  \n",
            "min       2.720000     0.220000     8.000000     3.000000     0.000000  \n",
            "25%       3.110000     0.430000     9.500000     5.000000     1.000000  \n",
            "50%       3.210000     0.510000    10.300000     6.000000     1.000000  \n",
            "75%       3.320000     0.600000    11.300000     6.000000     1.000000  \n",
            "max       4.010000     2.000000    14.900000     9.000000     1.000000  \n"
          ]
        }
      ]
    },
    {
      "cell_type": "code",
      "source": [
        "# 데이터에서 target(여기서는 type)의 분포를 확인\n",
        "plt.hist(wine['type'])\n",
        "plt.show()\n",
        "# 그래프로 보면 약 3배정도 차이\n",
        "# 보통 10배 이상 차이가 나면 조절이 필요하고 5배까지는 안정권"
      ],
      "metadata": {
        "colab": {
          "base_uri": "https://localhost:8080/",
          "height": 434
        },
        "id": "qvo61veLHPmD",
        "outputId": "09d17445-d547-4e38-8671-ecaad4af3fec"
      },
      "execution_count": 25,
      "outputs": [
        {
          "output_type": "display_data",
          "data": {
            "text/plain": [
              "<Figure size 640x480 with 1 Axes>"
            ],
            "image/png": "[encoded data removed]"
          },
          "metadata": {}
        }
      ]
    },
    {
      "cell_type": "code",
      "source": [
        "# 데이터의 정규화\n",
        "# sklearn 의 MinMaxScaler 를 적용한 것과 같음\n",
        "# 모든 컬럼에서 최소는 0, 최대는 1\n",
        "wine_norm = (wine - wine.min()) / (wine.max() - wine.min())\n",
        "print(wine_norm.head())\n",
        "print(wine_norm.describe())"
      ],
      "metadata": {
        "id": "cEP0KAZBrMUB",
        "colab": {
          "base_uri": "https://localhost:8080/"
        },
        "outputId": "c9cc8102-8634-44b0-958b-6be38e51c4c4"
      },
      "execution_count": 28,
      "outputs": [
        {
          "output_type": "stream",
          "name": "stdout",
          "text": [
            "   fixed acidity  volatile acidity  citric acid  residual sugar  chlorides  \\\n",
            "0       0.297521          0.413333     0.000000        0.019939   0.111296   \n",
            "1       0.330579          0.533333     0.000000        0.030675   0.147841   \n",
            "2       0.330579          0.453333     0.024096        0.026074   0.137874   \n",
            "3       0.611570          0.133333     0.337349        0.019939   0.109635   \n",
            "4       0.297521          0.413333     0.000000        0.019939   0.111296   \n",
            "\n",
            "   free sulfur dioxide  total sulfur dioxide   density        pH  sulphates  \\\n",
            "0             0.034722              0.064516  0.206092  0.612403   0.191011   \n",
            "1             0.083333              0.140553  0.186813  0.372093   0.258427   \n",
            "2             0.048611              0.110599  0.190669  0.418605   0.241573   \n",
            "3             0.055556              0.124424  0.209948  0.341085   0.202247   \n",
            "4             0.034722              0.064516  0.206092  0.612403   0.191011   \n",
            "\n",
            "    alcohol   quality  type  \n",
            "0  0.202899  0.333333   0.0  \n",
            "1  0.260870  0.333333   0.0  \n",
            "2  0.260870  0.333333   0.0  \n",
            "3  0.260870  0.500000   0.0  \n",
            "4  0.202899  0.333333   0.0  \n",
            "       fixed acidity  volatile acidity  citric acid  residual sugar  \\\n",
            "count    6497.000000       6497.000000  6497.000000     6497.000000   \n",
            "mean        0.282257          0.173111     0.191948        0.074283   \n",
            "std         0.107143          0.109758     0.087541        0.072972   \n",
            "min         0.000000          0.000000     0.000000        0.000000   \n",
            "25%         0.214876          0.100000     0.150602        0.018405   \n",
            "50%         0.264463          0.140000     0.186747        0.036810   \n",
            "75%         0.322314          0.213333     0.234940        0.115031   \n",
            "max         1.000000          1.000000     1.000000        1.000000   \n",
            "\n",
            "         chlorides  free sulfur dioxide  total sulfur dioxide      density  \\\n",
            "count  6497.000000          6497.000000           6497.000000  6497.000000   \n",
            "mean      0.078129             0.102518              0.252868     0.146262   \n",
            "std       0.058195             0.061630              0.130235     0.057811   \n",
            "min       0.000000             0.000000              0.000000     0.000000   \n",
            "25%       0.048173             0.055556              0.163594     0.100829   \n",
            "50%       0.063123             0.097222              0.258065     0.149990   \n",
            "75%       0.093023             0.138889              0.345622     0.190476   \n",
            "max       1.000000             1.000000              1.000000     1.000000   \n",
            "\n",
            "                pH    sulphates      alcohol      quality         type  \n",
            "count  6497.000000  6497.000000  6497.000000  6497.000000  6497.000000  \n",
            "mean      0.386435     0.174870     0.361131     0.469730     0.753886  \n",
            "std       0.124641     0.083599     0.172857     0.145543     0.430779  \n",
            "min       0.000000     0.000000     0.000000     0.000000     0.000000  \n",
            "25%       0.302326     0.117978     0.217391     0.333333     1.000000  \n",
            "50%       0.379845     0.162921     0.333333     0.500000     1.000000  \n",
            "75%       0.465116     0.213483     0.478261     0.500000     1.000000  \n",
            "max       1.000000     1.000000     1.000000     1.000000     1.000000  \n"
          ]
        }
      ]
    },
    {
      "cell_type": "code",
      "source": [
        "# 데이터 샘플링\n",
        "# sample 은 랜덤하게 가져오는 기능을 하고 frac 은 비율\n",
        "# frac 이 1이므로 전체 데이터에 대해 진행\n",
        "wine_shuffle = wine_norm.sample(frac = 1)\n",
        "print(wine_shuffle.head())\n",
        "# 이전과 다르게 type 을 보면 0과 1의 분포가 섞여있음"
      ],
      "metadata": {
        "colab": {
          "base_uri": "https://localhost:8080/"
        },
        "id": "nJkyPo_XLGFw",
        "outputId": "27e5ced9-b610-4645-ba34-d2209e5c11b0"
      },
      "execution_count": 29,
      "outputs": [
        {
          "output_type": "stream",
          "name": "stdout",
          "text": [
            "      fixed acidity  volatile acidity  citric acid  residual sugar  chlorides  \\\n",
            "564        0.760331          0.260000     0.295181        0.056748   0.126246   \n",
            "951        0.314050          0.093333     0.204819        0.139571   0.043189   \n",
            "1312       0.347107          0.733333     0.126506        0.019939   0.122924   \n",
            "2137       0.280992          0.053333     0.156627        0.099693   0.074751   \n",
            "4343       0.165289          0.093333     0.150602        0.013804   0.024917   \n",
            "\n",
            "      free sulfur dioxide  total sulfur dioxide   density        pH  \\\n",
            "564              0.017361              0.094470  0.288992  0.449612   \n",
            "951              0.086806              0.315668  0.181029  0.279070   \n",
            "1312             0.045139              0.080645  0.158280  0.480620   \n",
            "2137             0.138889              0.502304  0.182957  0.511628   \n",
            "4343             0.069444              0.237327  0.100829  0.503876   \n",
            "\n",
            "      sulphates   alcohol   quality  type  \n",
            "564    0.258427  0.681159  0.500000   0.0  \n",
            "951    0.151685  0.260870  0.500000   1.0  \n",
            "1312   0.140449  0.362319  0.333333   0.0  \n",
            "2137   0.185393  0.304348  0.333333   1.0  \n",
            "4343   0.202247  0.347826  0.500000   1.0  \n"
          ]
        }
      ]
    },
    {
      "cell_type": "code",
      "source": [
        "# tensor 와의 호환을 위해 pandas 의 DataFrame 을 numpy 의 ndarray 로 변환\n",
        "wine_array = wine_shuffle.values\n",
        "# wine_array = wine_shuffle.to_numpy() # 동일 기능\n",
        "print(wine_array[:6])"
      ],
      "metadata": {
        "colab": {
          "base_uri": "https://localhost:8080/"
        },
        "id": "IeGZa2FhLGJV",
        "outputId": "33f6843d-f8e2-4adf-fe11-b80e56926366"
      },
      "execution_count": 31,
      "outputs": [
        {
          "output_type": "stream",
          "name": "stdout",
          "text": [
            "[[0.76033058 0.26       0.29518072 0.05674847 0.12624585 0.01736111\n",
            "  0.09447005 0.28899171 0.4496124  0.25842697 0.68115942 0.5\n",
            "  0.        ]\n",
            " [0.31404959 0.09333333 0.20481928 0.13957055 0.04318937 0.08680556\n",
            "  0.3156682  0.1810295  0.27906977 0.15168539 0.26086957 0.5\n",
            "  1.        ]\n",
            " [0.34710744 0.73333333 0.12650602 0.01993865 0.12292359 0.04513889\n",
            "  0.08064516 0.15828032 0.48062016 0.14044944 0.36231884 0.33333333\n",
            "  0.        ]\n",
            " [0.28099174 0.05333333 0.15662651 0.09969325 0.07475083 0.13888889\n",
            "  0.50230415 0.18295739 0.51162791 0.18539326 0.30434783 0.33333333\n",
            "  1.        ]\n",
            " [0.16528926 0.09333333 0.15060241 0.01380368 0.02491694 0.06944444\n",
            "  0.23732719 0.100829   0.50387597 0.20224719 0.34782609 0.5\n",
            "  1.        ]\n",
            " [0.27272727 0.23333333 0.25301205 0.07515337 0.1013289  0.09722222\n",
            "  0.28341014 0.19645267 0.54263566 0.28089888 0.36231884 0.33333333\n",
            "  0.        ]]\n"
          ]
        }
      ]
    },
    {
      "cell_type": "code",
      "source": [
        "# 훈련에 사용할 데이터 생성\n",
        "\n",
        "# 훈련 데이터로 전체의 80%를 사용\n",
        "# 이미 섞여있는 데이터이므로 인덱스를 활용할 수 있음\n",
        "train_idx = int(len(wine_array) * 0.8)\n",
        "\n",
        "# train_idx 를 기준으로 행 단위로 분할\n",
        "# 타겟인 맨 마지막 열은 y 데이터에 넣고 나머지는 X 데이터에 삽입해서 분리\n",
        "X_train, y_train = wine_array[:train_idx, :-1], wine_array[:train_idx, -1]\n",
        "X_test, y_test = wine_array[train_idx:, :-1], wine_array[train_idx:, -1]\n",
        "\n",
        "# 레드 와 화이트 로 분류할 것이므로 타겟에 원 핫 인코딩 진행 - 이항 분류\n",
        "y_train = tf.keras.utils.to_categorical(y_train, num_classes = 2)\n",
        "y_test = tf.keras.utils.to_categorical(y_test, num_classes = 2)\n",
        "\n",
        "print(X_train.shape, X_test.shape)\n",
        "print(y_train.shape, y_test.shape)"
      ],
      "metadata": {
        "colab": {
          "base_uri": "https://localhost:8080/"
        },
        "id": "HoplQkGbLGLW",
        "outputId": "daed2b18-cdf0-404f-cf9b-7dcd46df4652"
      },
      "execution_count": 32,
      "outputs": [
        {
          "output_type": "stream",
          "name": "stdout",
          "text": [
            "(5197, 12) (1300, 12)\n",
            "(5197, 2) (1300, 2)\n"
          ]
        }
      ]
    },
    {
      "cell_type": "code",
      "source": [
        "# 분류 모델\n",
        "\n",
        "# 중간 층의 수, 유닛의 수, 활성 함수 등은 어떻게 조절해도 괜찮지만\n",
        "# 첫번째 층의 input_shape 와 마지막 출력 층의 units 는 반드시 정해진 값으로\n",
        "# 데이터의 컬럼이 12개+1개(type)이므로 첫번째에서 input_shape 는 12이고\n",
        "# 마지막 층의 units 는 분류의 결과인 2개(클래스의 수)\n",
        "model = tf.keras.Sequential([\n",
        "    tf.keras.layers.Dense(units = 128, activation = 'relu', input_shape = [12]),\n",
        "    tf.keras.layers.Dense(units = 64, activation = 'relu'),\n",
        "    tf.keras.layers.Dense(units = 32, activation = 'relu'),\n",
        "    tf.keras.layers.Dense(units = 12, activation = 'relu'),\n",
        "    tf.keras.layers.Dense(units = 2, activation = 'softmax')\n",
        "])\n",
        "\n",
        "# 최적화 함수는 Adam 을 사용하고 학습률은 0.05\n",
        "# 손실 함수는 카테고리 크로스 엔트로프\n",
        "# 평가 지표는 MSE, MAE\n",
        "model.compile(optimizer = tf.keras.optimizers.Adam(learning_rate = 0.05),\n",
        "              loss = 'categorical_crossentropy',\n",
        "              metrics = ['accuracy',\n",
        "                         tf.keras.losses.MeanSquaredError(),\n",
        "                         ])\n",
        "\n",
        "# 모델의 구조 확인\n",
        "model.summary()\n",
        "\n",
        "# 훈련\n",
        "history = model.fit(X_train, y_train, epochs = 25)"
      ],
      "metadata": {
        "colab": {
          "base_uri": "https://localhost:8080/"
        },
        "id": "wwEuf0CHPKNV",
        "outputId": "7fc28b47-bda0-418c-d89b-77c27dc32b93"
      },
      "execution_count": 46,
      "outputs": [
        {
          "output_type": "stream",
          "name": "stdout",
          "text": [
            "Model: \"sequential_9\"\n",
            "_________________________________________________________________\n",
            " Layer (type)                Output Shape              Param #   \n",
            "=================================================================\n",
            " dense_35 (Dense)            (None, 128)               1664      \n",
            "                                                                 \n",
            " dense_36 (Dense)            (None, 64)                8256      \n",
            "                                                                 \n",
            " dense_37 (Dense)            (None, 32)                2080      \n",
            "                                                                 \n",
            " dense_38 (Dense)            (None, 12)                396       \n",
            "                                                                 \n",
            " dense_39 (Dense)            (None, 2)                 26        \n",
            "                                                                 \n",
            "=================================================================\n",
            "Total params: 12422 (48.52 KB)\n",
            "Trainable params: 12422 (48.52 KB)\n",
            "Non-trainable params: 0 (0.00 Byte)\n",
            "_________________________________________________________________\n",
            "Epoch 1/25\n",
            "163/163 [==============================] - 2s 2ms/step - loss: 0.1650 - accuracy: 0.9382 - mean_squared_error: 0.0447\n",
            "Epoch 2/25\n",
            "163/163 [==============================] - 0s 2ms/step - loss: 0.0607 - accuracy: 0.9831 - mean_squared_error: 0.0139\n",
            "Epoch 3/25\n",
            "163/163 [==============================] - 0s 2ms/step - loss: 0.0548 - accuracy: 0.9842 - mean_squared_error: 0.0119\n",
            "Epoch 4/25\n",
            "163/163 [==============================] - 0s 2ms/step - loss: 0.0646 - accuracy: 0.9831 - mean_squared_error: 0.0136\n",
            "Epoch 5/25\n",
            "163/163 [==============================] - 0s 2ms/step - loss: 0.0541 - accuracy: 0.9865 - mean_squared_error: 0.0115\n",
            "Epoch 6/25\n",
            "163/163 [==============================] - 0s 2ms/step - loss: 0.0550 - accuracy: 0.9858 - mean_squared_error: 0.0117\n",
            "Epoch 7/25\n",
            "163/163 [==============================] - 0s 2ms/step - loss: 0.0518 - accuracy: 0.9861 - mean_squared_error: 0.0113\n",
            "Epoch 8/25\n",
            "163/163 [==============================] - 0s 2ms/step - loss: 0.0451 - accuracy: 0.9885 - mean_squared_error: 0.0094\n",
            "Epoch 9/25\n",
            "163/163 [==============================] - 0s 2ms/step - loss: 0.0463 - accuracy: 0.9875 - mean_squared_error: 0.0099\n",
            "Epoch 10/25\n",
            "163/163 [==============================] - 0s 2ms/step - loss: 0.0415 - accuracy: 0.9894 - mean_squared_error: 0.0086\n",
            "Epoch 11/25\n",
            "163/163 [==============================] - 0s 2ms/step - loss: 0.0432 - accuracy: 0.9879 - mean_squared_error: 0.0096\n",
            "Epoch 12/25\n",
            "163/163 [==============================] - 0s 2ms/step - loss: 0.0426 - accuracy: 0.9871 - mean_squared_error: 0.0099\n",
            "Epoch 13/25\n",
            "163/163 [==============================] - 0s 3ms/step - loss: 0.0461 - accuracy: 0.9883 - mean_squared_error: 0.0100\n",
            "Epoch 14/25\n",
            "163/163 [==============================] - 1s 3ms/step - loss: 0.0508 - accuracy: 0.9883 - mean_squared_error: 0.0102\n",
            "Epoch 15/25\n",
            "163/163 [==============================] - 1s 3ms/step - loss: 0.0391 - accuracy: 0.9894 - mean_squared_error: 0.0081\n",
            "Epoch 16/25\n",
            "163/163 [==============================] - 1s 4ms/step - loss: 0.0377 - accuracy: 0.9911 - mean_squared_error: 0.0071\n",
            "Epoch 17/25\n",
            "163/163 [==============================] - 1s 3ms/step - loss: 0.0349 - accuracy: 0.9917 - mean_squared_error: 0.0071\n",
            "Epoch 18/25\n",
            "163/163 [==============================] - 1s 3ms/step - loss: 0.0452 - accuracy: 0.9886 - mean_squared_error: 0.0092\n",
            "Epoch 19/25\n",
            "163/163 [==============================] - 0s 2ms/step - loss: 0.0389 - accuracy: 0.9923 - mean_squared_error: 0.0073\n",
            "Epoch 20/25\n",
            "163/163 [==============================] - 0s 2ms/step - loss: 0.0323 - accuracy: 0.9923 - mean_squared_error: 0.0066\n",
            "Epoch 21/25\n",
            "163/163 [==============================] - 0s 2ms/step - loss: 0.0350 - accuracy: 0.9919 - mean_squared_error: 0.0070\n",
            "Epoch 22/25\n",
            "163/163 [==============================] - 0s 2ms/step - loss: 0.0405 - accuracy: 0.9902 - mean_squared_error: 0.0078\n",
            "Epoch 23/25\n",
            "163/163 [==============================] - 0s 2ms/step - loss: 0.0289 - accuracy: 0.9942 - mean_squared_error: 0.0052\n",
            "Epoch 24/25\n",
            "163/163 [==============================] - 0s 2ms/step - loss: 0.0424 - accuracy: 0.9900 - mean_squared_error: 0.0086\n",
            "Epoch 25/25\n",
            "163/163 [==============================] - 0s 2ms/step - loss: 0.0389 - accuracy: 0.9890 - mean_squared_error: 0.0084\n"
          ]
        }
      ]
    },
    {
      "cell_type": "code",
      "source": [
        "# 훈련 - 검증 방식을 추가\n",
        "\n",
        "# validation_split 을 설정하면 그 비율만큼을\n",
        "# 검증 데이터로 사용하여 validation 을 수행\n",
        "# 훈련 데이터에 validation 에 대한 평가 지표도 함께 출력\n",
        "history = model.fit(X_train, y_train, epochs = 30,\n",
        "                    validation_split = 0.25)"
      ],
      "metadata": {
        "id": "tp6SeDyYPKQy"
      },
      "execution_count": null,
      "outputs": []
    },
    {
      "cell_type": "code",
      "source": [
        "# 훈련 - batch size 를 조절\n",
        "\n",
        "# batch_size 는 데이터를 분할해서 학습을 수행\n",
        "# batch_size 를 사용할 수 있기 때문에 일부 데이터만 가지고 학습이 가능\n",
        "# 그래서 훈련된 모델에 일부 데이터가 추가되는 경우 이어서 학습이 가능\n",
        "history = model.fit(X_train, y_train, epochs = 30,\n",
        "                    validation_split = 0.2, batch_size = 64)"
      ],
      "metadata": {
        "colab": {
          "base_uri": "https://localhost:8080/"
        },
        "id": "J0aEelqmPKSz",
        "outputId": "dfb83cad-c54d-4139-d976-f42619b25c10"
      },
      "execution_count": 48,
      "outputs": [
        {
          "output_type": "stream",
          "name": "stdout",
          "text": [
            "Epoch 1/30\n",
            "65/65 [==============================] - 0s 4ms/step - loss: 0.0430 - accuracy: 0.9923 - mean_squared_error: 0.0070 - val_loss: 0.0386 - val_accuracy: 0.9913 - val_mean_squared_error: 0.0075\n",
            "Epoch 2/30\n",
            "65/65 [==============================] - 0s 3ms/step - loss: 0.0366 - accuracy: 0.9916 - mean_squared_error: 0.0074 - val_loss: 0.0522 - val_accuracy: 0.9913 - val_mean_squared_error: 0.0078\n",
            "Epoch 3/30\n",
            "65/65 [==============================] - 0s 3ms/step - loss: 0.0336 - accuracy: 0.9921 - mean_squared_error: 0.0069 - val_loss: 0.0368 - val_accuracy: 0.9913 - val_mean_squared_error: 0.0075\n",
            "Epoch 4/30\n",
            "65/65 [==============================] - 0s 4ms/step - loss: 0.0279 - accuracy: 0.9923 - mean_squared_error: 0.0060 - val_loss: 0.0386 - val_accuracy: 0.9913 - val_mean_squared_error: 0.0077\n",
            "Epoch 5/30\n",
            "65/65 [==============================] - 0s 4ms/step - loss: 0.0276 - accuracy: 0.9923 - mean_squared_error: 0.0058 - val_loss: 0.0375 - val_accuracy: 0.9913 - val_mean_squared_error: 0.0075\n",
            "Epoch 6/30\n",
            "65/65 [==============================] - 0s 4ms/step - loss: 0.0277 - accuracy: 0.9918 - mean_squared_error: 0.0058 - val_loss: 0.0436 - val_accuracy: 0.9913 - val_mean_squared_error: 0.0077\n",
            "Epoch 7/30\n",
            "65/65 [==============================] - 0s 3ms/step - loss: 0.0284 - accuracy: 0.9935 - mean_squared_error: 0.0054 - val_loss: 0.0436 - val_accuracy: 0.9913 - val_mean_squared_error: 0.0082\n",
            "Epoch 8/30\n",
            "65/65 [==============================] - 0s 4ms/step - loss: 0.0645 - accuracy: 0.9868 - mean_squared_error: 0.0126 - val_loss: 0.1628 - val_accuracy: 0.9462 - val_mean_squared_error: 0.0417\n",
            "Epoch 9/30\n",
            "65/65 [==============================] - 0s 4ms/step - loss: 0.0675 - accuracy: 0.9829 - mean_squared_error: 0.0149 - val_loss: 0.1092 - val_accuracy: 0.9904 - val_mean_squared_error: 0.0084\n",
            "Epoch 10/30\n",
            "65/65 [==============================] - 0s 4ms/step - loss: 0.0449 - accuracy: 0.9858 - mean_squared_error: 0.0104 - val_loss: 0.0396 - val_accuracy: 0.9875 - val_mean_squared_error: 0.0087\n",
            "Epoch 11/30\n",
            "65/65 [==============================] - 0s 3ms/step - loss: 0.0365 - accuracy: 0.9858 - mean_squared_error: 0.0080 - val_loss: 0.1140 - val_accuracy: 0.9529 - val_mean_squared_error: 0.0208\n",
            "Epoch 12/30\n",
            "65/65 [==============================] - 0s 3ms/step - loss: 0.0595 - accuracy: 0.9793 - mean_squared_error: 0.0137 - val_loss: 0.0426 - val_accuracy: 0.9827 - val_mean_squared_error: 0.0105\n",
            "Epoch 13/30\n",
            "65/65 [==============================] - 0s 3ms/step - loss: 0.0338 - accuracy: 0.9906 - mean_squared_error: 0.0069 - val_loss: 0.0546 - val_accuracy: 0.9856 - val_mean_squared_error: 0.0095\n",
            "Epoch 14/30\n",
            "65/65 [==============================] - 0s 4ms/step - loss: 0.0339 - accuracy: 0.9909 - mean_squared_error: 0.0073 - val_loss: 0.0605 - val_accuracy: 0.9913 - val_mean_squared_error: 0.0072\n",
            "Epoch 15/30\n",
            "65/65 [==============================] - 0s 3ms/step - loss: 0.0472 - accuracy: 0.9904 - mean_squared_error: 0.0084 - val_loss: 0.5108 - val_accuracy: 0.8644 - val_mean_squared_error: 0.0827\n",
            "Epoch 16/30\n",
            "65/65 [==============================] - 0s 3ms/step - loss: 0.0831 - accuracy: 0.9764 - mean_squared_error: 0.0156 - val_loss: 0.1109 - val_accuracy: 0.9875 - val_mean_squared_error: 0.0101\n",
            "Epoch 17/30\n",
            "65/65 [==============================] - 0s 3ms/step - loss: 0.0753 - accuracy: 0.9817 - mean_squared_error: 0.0160 - val_loss: 0.0919 - val_accuracy: 0.9894 - val_mean_squared_error: 0.0094\n",
            "Epoch 18/30\n",
            "65/65 [==============================] - 0s 3ms/step - loss: 0.0522 - accuracy: 0.9892 - mean_squared_error: 0.0098 - val_loss: 0.0621 - val_accuracy: 0.9894 - val_mean_squared_error: 0.0098\n",
            "Epoch 19/30\n",
            "65/65 [==============================] - 0s 4ms/step - loss: 0.0668 - accuracy: 0.9868 - mean_squared_error: 0.0115 - val_loss: 0.0850 - val_accuracy: 0.9894 - val_mean_squared_error: 0.0097\n",
            "Epoch 20/30\n",
            "65/65 [==============================] - 0s 4ms/step - loss: 0.0626 - accuracy: 0.9880 - mean_squared_error: 0.0101 - val_loss: 0.0767 - val_accuracy: 0.9856 - val_mean_squared_error: 0.0114\n",
            "Epoch 21/30\n",
            "65/65 [==============================] - 0s 4ms/step - loss: 0.0572 - accuracy: 0.9868 - mean_squared_error: 0.0104 - val_loss: 0.0559 - val_accuracy: 0.9894 - val_mean_squared_error: 0.0081\n",
            "Epoch 22/30\n",
            "65/65 [==============================] - 0s 4ms/step - loss: 0.0302 - accuracy: 0.9904 - mean_squared_error: 0.0067 - val_loss: 0.0553 - val_accuracy: 0.9904 - val_mean_squared_error: 0.0081\n",
            "Epoch 23/30\n",
            "65/65 [==============================] - 0s 4ms/step - loss: 0.0421 - accuracy: 0.9909 - mean_squared_error: 0.0085 - val_loss: 0.0525 - val_accuracy: 0.9904 - val_mean_squared_error: 0.0080\n",
            "Epoch 24/30\n",
            "65/65 [==============================] - 0s 4ms/step - loss: 0.1146 - accuracy: 0.9707 - mean_squared_error: 0.0238 - val_loss: 0.0427 - val_accuracy: 0.9894 - val_mean_squared_error: 0.0071\n",
            "Epoch 25/30\n",
            "65/65 [==============================] - 0s 3ms/step - loss: 0.0384 - accuracy: 0.9921 - mean_squared_error: 0.0074 - val_loss: 0.0497 - val_accuracy: 0.9894 - val_mean_squared_error: 0.0089\n",
            "Epoch 26/30\n",
            "65/65 [==============================] - 0s 3ms/step - loss: 0.0369 - accuracy: 0.9892 - mean_squared_error: 0.0083 - val_loss: 0.0887 - val_accuracy: 0.9904 - val_mean_squared_error: 0.0089\n",
            "Epoch 27/30\n",
            "65/65 [==============================] - 0s 3ms/step - loss: 0.0388 - accuracy: 0.9904 - mean_squared_error: 0.0080 - val_loss: 0.0498 - val_accuracy: 0.9904 - val_mean_squared_error: 0.0085\n",
            "Epoch 28/30\n",
            "65/65 [==============================] - 0s 3ms/step - loss: 0.0393 - accuracy: 0.9911 - mean_squared_error: 0.0075 - val_loss: 0.0553 - val_accuracy: 0.9913 - val_mean_squared_error: 0.0084\n",
            "Epoch 29/30\n",
            "65/65 [==============================] - 0s 4ms/step - loss: 0.0600 - accuracy: 0.9829 - mean_squared_error: 0.0138 - val_loss: 0.0619 - val_accuracy: 0.9817 - val_mean_squared_error: 0.0166\n",
            "Epoch 30/30\n",
            "65/65 [==============================] - 0s 5ms/step - loss: 0.0469 - accuracy: 0.9817 - mean_squared_error: 0.0127 - val_loss: 0.0607 - val_accuracy: 0.9904 - val_mean_squared_error: 0.0095\n"
          ]
        }
      ]
    },
    {
      "cell_type": "code",
      "source": [
        "model.evaluate(X_test, y_test)"
      ],
      "metadata": {
        "colab": {
          "base_uri": "https://localhost:8080/"
        },
        "id": "BxEk15Q2PKU4",
        "outputId": "de6d58a9-a0cb-40f0-f544-bf508c9dcbd7"
      },
      "execution_count": 49,
      "outputs": [
        {
          "output_type": "stream",
          "name": "stdout",
          "text": [
            "41/41 [==============================] - 0s 2ms/step - loss: 0.0591 - accuracy: 0.9900 - mean_squared_error: 0.0127\n"
          ]
        },
        {
          "output_type": "execute_result",
          "data": {
            "text/plain": [
              "[0.059117648750543594, 0.9900000095367432, 0.012693065218627453]"
            ]
          },
          "metadata": {},
          "execution_count": 49
        }
      ]
    },
    {
      "cell_type": "markdown",
      "source": [
        "## 품질을 3가지로 나눠서 분류 - 다항 분류"
      ],
      "metadata": {
        "id": "1ghbNZAnjH18"
      }
    },
    {
      "cell_type": "code",
      "source": [
        "# 품질 데이터 확인\n",
        "\n",
        "print(wine['quality'].describe())\n",
        "print(wine['quality'].value_counts())\n",
        "\n",
        "# quality 를 기준으로 3 ~ 5 를 0, 6 을 1, 7 ~ 9 를 2 로 그룹화"
      ],
      "metadata": {
        "colab": {
          "base_uri": "https://localhost:8080/"
        },
        "id": "_ZZ5THFfHPon",
        "outputId": "67b77187-c9cf-4921-c593-cdb4b9ec90a4"
      },
      "execution_count": 51,
      "outputs": [
        {
          "output_type": "stream",
          "name": "stdout",
          "text": [
            "count    6497.000000\n",
            "mean        5.818378\n",
            "std         0.873255\n",
            "min         3.000000\n",
            "25%         5.000000\n",
            "50%         6.000000\n",
            "75%         6.000000\n",
            "max         9.000000\n",
            "Name: quality, dtype: float64\n",
            "6    2836\n",
            "5    2138\n",
            "7    1079\n",
            "4     216\n",
            "8     193\n",
            "3      30\n",
            "9       5\n",
            "Name: quality, dtype: int64\n"
          ]
        }
      ]
    },
    {
      "cell_type": "code",
      "source": [
        "# 타겟 생성\n",
        "wine.loc[wine['quality'] <= 5, 'new_quality'] = 0\n",
        "wine.loc[wine['quality'] == 6, 'new_quality'] = 1\n",
        "wine.loc[wine['quality'] >= 7, 'new_quality'] = 2\n",
        "\n",
        "print(wine[['quality', 'new_quality']].head())"
      ],
      "metadata": {
        "colab": {
          "base_uri": "https://localhost:8080/"
        },
        "id": "RFHevUWKfTr7",
        "outputId": "a6cd099b-8ff0-4eb0-bd93-e259b6bf8257"
      },
      "execution_count": 53,
      "outputs": [
        {
          "output_type": "stream",
          "name": "stdout",
          "text": [
            "   quality  new_quality\n",
            "0        5          0.0\n",
            "1        5          0.0\n",
            "2        5          0.0\n",
            "3        6          1.0\n",
            "4        5          0.0\n"
          ]
        }
      ]
    },
    {
      "cell_type": "code",
      "source": [
        "# 피처에 대해 정규화 수행\n",
        "\n",
        "# 이제 필요 없는 quality 컬럼 삭제\n",
        "#del wine['quality']\n",
        "\n",
        "# 데이터의 복사본 생성\n",
        "wine_backup = wine.copy()\n",
        "\n",
        "# 전체에 대해 정규화 수행\n",
        "wine_norm = (wine - wine.min()) / (wine.max() - wine.min())\n",
        "\n",
        "# 복사본에서 데이터 가져오기 - 타겟을 복원\n",
        "wine_norm['new_quality'] = wine_backup['new_quality']\n",
        "\n",
        "print(wine_norm.head())"
      ],
      "metadata": {
        "colab": {
          "base_uri": "https://localhost:8080/"
        },
        "id": "ZgRVBPSufTuS",
        "outputId": "d94f8e95-0d54-4687-8cc5-1eee6bb79849"
      },
      "execution_count": 55,
      "outputs": [
        {
          "output_type": "stream",
          "name": "stdout",
          "text": [
            "   fixed acidity  volatile acidity  citric acid  residual sugar  chlorides  \\\n",
            "0       0.297521          0.413333     0.000000        0.019939   0.111296   \n",
            "1       0.330579          0.533333     0.000000        0.030675   0.147841   \n",
            "2       0.330579          0.453333     0.024096        0.026074   0.137874   \n",
            "3       0.611570          0.133333     0.337349        0.019939   0.109635   \n",
            "4       0.297521          0.413333     0.000000        0.019939   0.111296   \n",
            "\n",
            "   free sulfur dioxide  total sulfur dioxide   density        pH  sulphates  \\\n",
            "0             0.034722              0.064516  0.206092  0.612403   0.191011   \n",
            "1             0.083333              0.140553  0.186813  0.372093   0.258427   \n",
            "2             0.048611              0.110599  0.190669  0.418605   0.241573   \n",
            "3             0.055556              0.124424  0.209948  0.341085   0.202247   \n",
            "4             0.034722              0.064516  0.206092  0.612403   0.191011   \n",
            "\n",
            "    alcohol  type  new_quality  \n",
            "0  0.202899   0.0          0.0  \n",
            "1  0.260870   0.0          0.0  \n",
            "2  0.260870   0.0          0.0  \n",
            "3  0.260870   0.0          1.0  \n",
            "4  0.202899   0.0          0.0  \n"
          ]
        }
      ]
    },
    {
      "cell_type": "code",
      "source": [
        "# 훈련 데이터와 테스트 데이터를 분할\n",
        "\n",
        "wine_shuffle = wine_norm.sample(frac = 1)\n",
        "wine_array = wine_shuffle.to_numpy()\n",
        "\n",
        "train_idx = int(len(wine_array) * 0.8)\n",
        "\n",
        "X_train, y_train = wine_array[:train_idx, :-1], wine_array[:train_idx, -1]\n",
        "X_test, y_test = wine_array[train_idx:, :-1], wine_array[train_idx:, -1]\n",
        "\n",
        "\n",
        "# 타겟에 대해 원 핫 인코딩\n",
        "\n",
        "# 이전과 다르게 이번에는 클래스가 3개 - 0, 1, 2 3개 그룹\n",
        "y_train = tf.keras.utils.to_categorical(y_train, num_classes = 3)\n",
        "y_test = tf.keras.utils.to_categorical(y_test, num_classes = 3)\n",
        "\n",
        "print(X_train.shape, X_test.shape)\n",
        "print(y_train.shape, y_test.shape)"
      ],
      "metadata": {
        "colab": {
          "base_uri": "https://localhost:8080/"
        },
        "id": "aVLYucIJfTwo",
        "outputId": "2ec0520f-71e0-424c-bdab-50a90e882517"
      },
      "execution_count": 57,
      "outputs": [
        {
          "output_type": "stream",
          "name": "stdout",
          "text": [
            "(5197, 12) (1300, 12)\n",
            "(5197, 3) (1300, 3)\n"
          ]
        }
      ]
    },
    {
      "cell_type": "code",
      "source": [
        "# 모델 생성\n",
        "\n",
        "# 이전 모델을 가져와서 수정\n",
        "# input_shape 는 하나를 증가시키고 하나를 삭제해서 12로 동일\n",
        "# 클래스가 3개이므로 출력 층의 units 도 3\n",
        "model = tf.keras.Sequential([\n",
        "    tf.keras.layers.Dense(units = 256, activation = 'relu', input_shape = [12]),\n",
        "    tf.keras.layers.Dense(units = 128, activation = 'relu'),\n",
        "    tf.keras.layers.Dense(units = 64, activation = 'relu'),\n",
        "    tf.keras.layers.Dense(units = 32, activation = 'relu'),\n",
        "    tf.keras.layers.Dense(units = 16, activation = 'relu'),\n",
        "    tf.keras.layers.Dense(units = 8, activation = 'relu'),\n",
        "    tf.keras.layers.Dense(units = 3, activation = 'softmax')\n",
        "])\n",
        "\n",
        "# 모델 컴파일\n",
        "# 분류의 경우 loss 로 categorical_crossentropy 를 주로 사용\n",
        "model.compile(optimizer = tf.keras.optimizers.Adam(learning_rate = 0.005),\n",
        "              loss = 'categorical_crossentropy',\n",
        "              metrics = ['accuracy', 'mse'])\n",
        "\n",
        "history = model.fit(X_train, y_train, epochs = 50,\n",
        "                    batch_size = 64, validation_split = 0.2)"
      ],
      "metadata": {
        "colab": {
          "base_uri": "https://localhost:8080/"
        },
        "id": "RD-e-K52myrD",
        "outputId": "88cd82e1-021c-460a-c9e5-5554f9426576"
      },
      "execution_count": 64,
      "outputs": [
        {
          "output_type": "stream",
          "name": "stdout",
          "text": [
            "Epoch 1/50\n",
            "65/65 [==============================] - 3s 10ms/step - loss: 0.9700 - accuracy: 0.4994 - mse: 0.1977 - val_loss: 0.9409 - val_accuracy: 0.4558 - val_mse: 0.1958\n",
            "Epoch 2/50\n",
            "65/65 [==============================] - 0s 6ms/step - loss: 0.9108 - accuracy: 0.5263 - mse: 0.1869 - val_loss: 0.8872 - val_accuracy: 0.5567 - val_mse: 0.1821\n",
            "Epoch 3/50\n",
            "65/65 [==============================] - 0s 6ms/step - loss: 0.9104 - accuracy: 0.5357 - mse: 0.1865 - val_loss: 0.8847 - val_accuracy: 0.5856 - val_mse: 0.1812\n",
            "Epoch 4/50\n",
            "65/65 [==============================] - 0s 6ms/step - loss: 0.8845 - accuracy: 0.5487 - mse: 0.1818 - val_loss: 0.8955 - val_accuracy: 0.5567 - val_mse: 0.1805\n",
            "Epoch 5/50\n",
            "65/65 [==============================] - 0s 6ms/step - loss: 0.8810 - accuracy: 0.5521 - mse: 0.1813 - val_loss: 0.8595 - val_accuracy: 0.5606 - val_mse: 0.1761\n",
            "Epoch 6/50\n",
            "65/65 [==============================] - 0s 6ms/step - loss: 0.8736 - accuracy: 0.5651 - mse: 0.1793 - val_loss: 0.8250 - val_accuracy: 0.6010 - val_mse: 0.1695\n",
            "Epoch 7/50\n",
            "65/65 [==============================] - 0s 6ms/step - loss: 0.8643 - accuracy: 0.5696 - mse: 0.1771 - val_loss: 0.8908 - val_accuracy: 0.4933 - val_mse: 0.1865\n",
            "Epoch 8/50\n",
            "65/65 [==============================] - 0s 6ms/step - loss: 0.8642 - accuracy: 0.5711 - mse: 0.1776 - val_loss: 0.8559 - val_accuracy: 0.5740 - val_mse: 0.1747\n",
            "Epoch 9/50\n",
            "65/65 [==============================] - 0s 6ms/step - loss: 0.8530 - accuracy: 0.5761 - mse: 0.1760 - val_loss: 0.8462 - val_accuracy: 0.5904 - val_mse: 0.1725\n",
            "Epoch 10/50\n",
            "65/65 [==============================] - 0s 6ms/step - loss: 0.8514 - accuracy: 0.5752 - mse: 0.1757 - val_loss: 0.8480 - val_accuracy: 0.5750 - val_mse: 0.1747\n",
            "Epoch 11/50\n",
            "65/65 [==============================] - 0s 7ms/step - loss: 0.8401 - accuracy: 0.5850 - mse: 0.1732 - val_loss: 0.8523 - val_accuracy: 0.5769 - val_mse: 0.1755\n",
            "Epoch 12/50\n",
            "65/65 [==============================] - 1s 10ms/step - loss: 0.8478 - accuracy: 0.5747 - mse: 0.1749 - val_loss: 0.8507 - val_accuracy: 0.5837 - val_mse: 0.1741\n",
            "Epoch 13/50\n",
            "65/65 [==============================] - 1s 10ms/step - loss: 0.8331 - accuracy: 0.5956 - mse: 0.1720 - val_loss: 0.8326 - val_accuracy: 0.5962 - val_mse: 0.1706\n",
            "Epoch 14/50\n",
            "65/65 [==============================] - 1s 10ms/step - loss: 0.8315 - accuracy: 0.5937 - mse: 0.1717 - val_loss: 0.8437 - val_accuracy: 0.5990 - val_mse: 0.1752\n",
            "Epoch 15/50\n",
            "65/65 [==============================] - 1s 10ms/step - loss: 0.8400 - accuracy: 0.5889 - mse: 0.1730 - val_loss: 0.8280 - val_accuracy: 0.5990 - val_mse: 0.1698\n",
            "Epoch 16/50\n",
            "65/65 [==============================] - 0s 6ms/step - loss: 0.8368 - accuracy: 0.5886 - mse: 0.1724 - val_loss: 0.8206 - val_accuracy: 0.6038 - val_mse: 0.1680\n",
            "Epoch 17/50\n",
            "65/65 [==============================] - 0s 6ms/step - loss: 0.8289 - accuracy: 0.5927 - mse: 0.1708 - val_loss: 0.8046 - val_accuracy: 0.6183 - val_mse: 0.1654\n",
            "Epoch 18/50\n",
            "65/65 [==============================] - 0s 6ms/step - loss: 0.8285 - accuracy: 0.5939 - mse: 0.1715 - val_loss: 0.8060 - val_accuracy: 0.6173 - val_mse: 0.1653\n",
            "Epoch 19/50\n",
            "65/65 [==============================] - 0s 6ms/step - loss: 0.8222 - accuracy: 0.5980 - mse: 0.1700 - val_loss: 0.8271 - val_accuracy: 0.6135 - val_mse: 0.1714\n",
            "Epoch 20/50\n",
            "65/65 [==============================] - 0s 6ms/step - loss: 0.8199 - accuracy: 0.5975 - mse: 0.1694 - val_loss: 0.8237 - val_accuracy: 0.5962 - val_mse: 0.1686\n",
            "Epoch 21/50\n",
            "65/65 [==============================] - 0s 6ms/step - loss: 0.8296 - accuracy: 0.5942 - mse: 0.1714 - val_loss: 0.8072 - val_accuracy: 0.6135 - val_mse: 0.1651\n",
            "Epoch 22/50\n",
            "65/65 [==============================] - 0s 6ms/step - loss: 0.8284 - accuracy: 0.5966 - mse: 0.1708 - val_loss: 0.8191 - val_accuracy: 0.6125 - val_mse: 0.1684\n",
            "Epoch 23/50\n",
            "65/65 [==============================] - 0s 6ms/step - loss: 0.8310 - accuracy: 0.5927 - mse: 0.1711 - val_loss: 0.8030 - val_accuracy: 0.6077 - val_mse: 0.1654\n",
            "Epoch 24/50\n",
            "65/65 [==============================] - 0s 6ms/step - loss: 0.8216 - accuracy: 0.5927 - mse: 0.1699 - val_loss: 0.8133 - val_accuracy: 0.6144 - val_mse: 0.1679\n",
            "Epoch 25/50\n",
            "65/65 [==============================] - 0s 7ms/step - loss: 0.8191 - accuracy: 0.5978 - mse: 0.1694 - val_loss: 0.8086 - val_accuracy: 0.6087 - val_mse: 0.1655\n",
            "Epoch 26/50\n",
            "65/65 [==============================] - 0s 6ms/step - loss: 0.8145 - accuracy: 0.6012 - mse: 0.1681 - val_loss: 0.8207 - val_accuracy: 0.6029 - val_mse: 0.1697\n",
            "Epoch 27/50\n",
            "65/65 [==============================] - 0s 7ms/step - loss: 0.8118 - accuracy: 0.5985 - mse: 0.1680 - val_loss: 0.8485 - val_accuracy: 0.5846 - val_mse: 0.1759\n",
            "Epoch 28/50\n",
            "65/65 [==============================] - 0s 6ms/step - loss: 0.8101 - accuracy: 0.6014 - mse: 0.1676 - val_loss: 0.8205 - val_accuracy: 0.6106 - val_mse: 0.1684\n",
            "Epoch 29/50\n",
            "65/65 [==============================] - 0s 6ms/step - loss: 0.8096 - accuracy: 0.6093 - mse: 0.1671 - val_loss: 0.8082 - val_accuracy: 0.6087 - val_mse: 0.1662\n",
            "Epoch 30/50\n",
            "65/65 [==============================] - 0s 6ms/step - loss: 0.8176 - accuracy: 0.6012 - mse: 0.1689 - val_loss: 0.8255 - val_accuracy: 0.6019 - val_mse: 0.1682\n",
            "Epoch 31/50\n",
            "65/65 [==============================] - 0s 6ms/step - loss: 0.7969 - accuracy: 0.6192 - mse: 0.1645 - val_loss: 0.7969 - val_accuracy: 0.6298 - val_mse: 0.1628\n",
            "Epoch 32/50\n",
            "65/65 [==============================] - 0s 7ms/step - loss: 0.8007 - accuracy: 0.6223 - mse: 0.1645 - val_loss: 0.8092 - val_accuracy: 0.6058 - val_mse: 0.1678\n",
            "Epoch 33/50\n",
            "65/65 [==============================] - 0s 6ms/step - loss: 0.8133 - accuracy: 0.6040 - mse: 0.1682 - val_loss: 0.8208 - val_accuracy: 0.6154 - val_mse: 0.1679\n",
            "Epoch 34/50\n",
            "65/65 [==============================] - 0s 6ms/step - loss: 0.8024 - accuracy: 0.6084 - mse: 0.1656 - val_loss: 0.8026 - val_accuracy: 0.6240 - val_mse: 0.1640\n",
            "Epoch 35/50\n",
            "65/65 [==============================] - 0s 6ms/step - loss: 0.7994 - accuracy: 0.6069 - mse: 0.1654 - val_loss: 0.8141 - val_accuracy: 0.6154 - val_mse: 0.1663\n",
            "Epoch 36/50\n",
            "65/65 [==============================] - 0s 6ms/step - loss: 0.8013 - accuracy: 0.6190 - mse: 0.1652 - val_loss: 0.8280 - val_accuracy: 0.6038 - val_mse: 0.1697\n",
            "Epoch 37/50\n",
            "65/65 [==============================] - 0s 6ms/step - loss: 0.7999 - accuracy: 0.6153 - mse: 0.1651 - val_loss: 0.8311 - val_accuracy: 0.5846 - val_mse: 0.1697\n",
            "Epoch 38/50\n",
            "65/65 [==============================] - 0s 6ms/step - loss: 0.7945 - accuracy: 0.6105 - mse: 0.1645 - val_loss: 0.8076 - val_accuracy: 0.6269 - val_mse: 0.1659\n",
            "Epoch 39/50\n",
            "65/65 [==============================] - 0s 6ms/step - loss: 0.8020 - accuracy: 0.6134 - mse: 0.1659 - val_loss: 0.8014 - val_accuracy: 0.6135 - val_mse: 0.1648\n",
            "Epoch 40/50\n",
            "65/65 [==============================] - 0s 7ms/step - loss: 0.7968 - accuracy: 0.6221 - mse: 0.1648 - val_loss: 0.7928 - val_accuracy: 0.6212 - val_mse: 0.1632\n",
            "Epoch 41/50\n",
            "65/65 [==============================] - 1s 10ms/step - loss: 0.7986 - accuracy: 0.6113 - mse: 0.1654 - val_loss: 0.8132 - val_accuracy: 0.6154 - val_mse: 0.1664\n",
            "Epoch 42/50\n",
            "65/65 [==============================] - 1s 10ms/step - loss: 0.7947 - accuracy: 0.6144 - mse: 0.1643 - val_loss: 0.7839 - val_accuracy: 0.6423 - val_mse: 0.1612\n",
            "Epoch 43/50\n",
            "65/65 [==============================] - 1s 10ms/step - loss: 0.7927 - accuracy: 0.6197 - mse: 0.1635 - val_loss: 0.8347 - val_accuracy: 0.6038 - val_mse: 0.1704\n",
            "Epoch 44/50\n",
            "65/65 [==============================] - 1s 10ms/step - loss: 0.8118 - accuracy: 0.6108 - mse: 0.1668 - val_loss: 0.8124 - val_accuracy: 0.6058 - val_mse: 0.1667\n",
            "Epoch 45/50\n",
            "65/65 [==============================] - 0s 7ms/step - loss: 0.7960 - accuracy: 0.6144 - mse: 0.1644 - val_loss: 0.8070 - val_accuracy: 0.6212 - val_mse: 0.1654\n",
            "Epoch 46/50\n",
            "65/65 [==============================] - 0s 6ms/step - loss: 0.7946 - accuracy: 0.6163 - mse: 0.1648 - val_loss: 0.7946 - val_accuracy: 0.6279 - val_mse: 0.1620\n",
            "Epoch 47/50\n",
            "65/65 [==============================] - 0s 6ms/step - loss: 0.7826 - accuracy: 0.6339 - mse: 0.1613 - val_loss: 0.8060 - val_accuracy: 0.6231 - val_mse: 0.1664\n",
            "Epoch 48/50\n",
            "65/65 [==============================] - 0s 6ms/step - loss: 0.7885 - accuracy: 0.6221 - mse: 0.1623 - val_loss: 0.7906 - val_accuracy: 0.6202 - val_mse: 0.1624\n",
            "Epoch 49/50\n",
            "65/65 [==============================] - 0s 6ms/step - loss: 0.7950 - accuracy: 0.6134 - mse: 0.1653 - val_loss: 0.8098 - val_accuracy: 0.6067 - val_mse: 0.1663\n",
            "Epoch 50/50\n",
            "65/65 [==============================] - 0s 6ms/step - loss: 0.7893 - accuracy: 0.6223 - mse: 0.1629 - val_loss: 0.7975 - val_accuracy: 0.6298 - val_mse: 0.1627\n"
          ]
        }
      ]
    },
    {
      "cell_type": "code",
      "source": [
        "# 모델의 훈련 결과 평가\n",
        "model.evaluate(X_test, y_test)"
      ],
      "metadata": {
        "colab": {
          "base_uri": "https://localhost:8080/"
        },
        "id": "v3X4V1FzmyuZ",
        "outputId": "c77d44b9-9aac-494c-d14c-78a2abdc6bf5"
      },
      "execution_count": 63,
      "outputs": [
        {
          "output_type": "stream",
          "name": "stdout",
          "text": [
            "41/41 [==============================] - 0s 3ms/step - loss: 0.8243 - accuracy: 0.6115 - mse: 0.1696\n"
          ]
        },
        {
          "output_type": "execute_result",
          "data": {
            "text/plain": [
              "[0.8243230581283569, 0.6115384697914124, 0.16957682371139526]"
            ]
          },
          "metadata": {},
          "execution_count": 63
        }
      ]
    },
    {
      "cell_type": "code",
      "source": [],
      "metadata": {
        "id": "xPKnE3NImyzc"
      },
      "execution_count": null,
      "outputs": []
    }
  ]
}